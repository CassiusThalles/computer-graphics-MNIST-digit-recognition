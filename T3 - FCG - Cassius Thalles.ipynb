{
 "cells": [
  {
   "cell_type": "markdown",
   "metadata": {},
   "source": [
    "# Fundamentos de Computação Gráfica\n",
    "## Cassius Thalles C. Mendes"
   ]
  },
  {
   "cell_type": "markdown",
   "metadata": {},
   "source": [
    "Neste trabalho implementaremos um algoritmo de aprendizado de máquina para o reconhecimento de imagens, mais precisamente dígitos numéricos escritos manualmente. Para tanto utilizaremos redes neurais convolucionais (Convolutional Neural Network ou simplesmente CNN). Embora seja possível implementar o algoritmo totalmente no python, eu optei por utilizar a biblioteca tensorflow pois esta é baseada em C/C++ e a execução do algorítmo é mais rápida do que uma implementação usando apenas python. Um outro benefício é que a biblioteca tensorflow permite o download do dataset MNIST que é o dataset usado neste trabalho. Por fim, esta biblioteca também permite lidar com a matemática, com maior ênfase na álgebra linear, de maneira mais prática.\n",
    "\n",
    "Para começar o trabalho vamos importar os pacotes necessários."
   ]
  },
  {
   "cell_type": "code",
   "execution_count": 2,
   "metadata": {},
   "outputs": [],
   "source": [
    "import numpy as np\n",
    "import tensorflow as tf\n",
    "from sklearn.metrics import confusion_matrix\n",
    "import time\n",
    "from datetime import timedelta\n",
    "import math\n",
    "import matplotlib.pyplot as plt\n",
    "%matplotlib inline"
   ]
  },
  {
   "cell_type": "markdown",
   "metadata": {},
   "source": [
    "Como mencionei inicialmente, iremos aplicar o algoritmo ao dataset MNIST. Vamos então fazer o download do dataset usando o tensorflow."
   ]
  },
  {
   "cell_type": "code",
   "execution_count": 3,
   "metadata": {},
   "outputs": [
    {
     "name": "stdout",
     "output_type": "stream",
     "text": [
      "Extracting data/MNIST/train-images-idx3-ubyte.gz\n",
      "Extracting data/MNIST/train-labels-idx1-ubyte.gz\n",
      "Extracting data/MNIST/t10k-images-idx3-ubyte.gz\n",
      "Extracting data/MNIST/t10k-labels-idx1-ubyte.gz\n"
     ]
    }
   ],
   "source": [
    "from tensorflow.examples.tutorials.mnist import input_data\n",
    "dados = input_data.read_data_sets('data/MNIST/', one_hot=True)\n",
    "\n",
    "#o parâmetro 'one_hot=True' fará com que o número representado na imagem passe a ser representado como um vetor de 10 \n",
    "#dimensões, onde todas as entradas terão valor 0 exceto aquela que representa o número. Por exemplo:\n",
    "#7 = [0, 0, 0, 0, 0, 0, 0, 1, 0, 0]\n",
    "#0 = [1, 0, 0, 0, 0, 0, 0, 0, 0, 0]\n",
    "#2 = [0, 0, 1, 0, 0, 0, 0, 0, 0, 0]"
   ]
  },
  {
   "cell_type": "code",
   "execution_count": 4,
   "metadata": {},
   "outputs": [
    {
     "name": "stdout",
     "output_type": "stream",
     "text": [
      "Tamanho dos dados:\n",
      "- Dados de treino:\t\t55000\n",
      "- Dados de teste:\t\t10000\n",
      "- Dados de validação:\t\t5000\n"
     ]
    }
   ],
   "source": [
    "#Vejamos o tamanho dos dados que temos no dataset\n",
    "print(\"Tamanho dos dados:\")\n",
    "print(\"- Dados de treino:\\t\\t{}\".format(len(dados.train.labels)))\n",
    "print(\"- Dados de teste:\\t\\t{}\".format(len(dados.test.labels)))\n",
    "print(\"- Dados de validação:\\t\\t{}\".format(len(dados.validation.labels)))"
   ]
  },
  {
   "cell_type": "markdown",
   "metadata": {},
   "source": [
    "Os valores acima querem dizer que temos um total de 55000 dígitos diferentes nos dados de treino, 10000 nos dados de teste e 5000 nos dados de validação. Neste trabalho vamos focar apenas nos dados de treino e nos dados de teste.\n",
    "\n",
    "Em posse dos dados podemos começar a implementar nosso algoritmo. Como mencionamos acima o 'one_hot' transforma um número em um vetor, mas também vamos precisar dos dados de teste representados como números, de preferência através de uma variável separada do conjunto de dados."
   ]
  },
  {
   "cell_type": "code",
   "execution_count": 5,
   "metadata": {},
   "outputs": [
    {
     "name": "stdout",
     "output_type": "stream",
     "text": [
      "[7 2 1 0 4]\n",
      " \n",
      "[[0. 0. 0. 0. 0. 0. 0. 1. 0. 0.]\n",
      " [0. 0. 1. 0. 0. 0. 0. 0. 0. 0.]\n",
      " [0. 1. 0. 0. 0. 0. 0. 0. 0. 0.]\n",
      " [1. 0. 0. 0. 0. 0. 0. 0. 0. 0.]\n",
      " [0. 0. 0. 0. 1. 0. 0. 0. 0. 0.]]\n"
     ]
    }
   ],
   "source": [
    "#classe dos dados de teste\n",
    "dados.test.cls = np.argmax(dados.test.labels, axis=1)\n",
    "print(dados.test.cls[0:5])\n",
    "print(\" \")\n",
    "print(dados.test.labels[0:5, :])"
   ]
  },
  {
   "cell_type": "markdown",
   "metadata": {},
   "source": [
    "Os dados que obtivemos tem características específicas que serão utilizadas durante o algoritmo, aqui vamos definir variáveis para armazenar cada uma dessas características."
   ]
  },
  {
   "cell_type": "code",
   "execution_count": 6,
   "metadata": {},
   "outputs": [],
   "source": [
    "tam_img = 28 #As imagens do dataset possuem dimensões 28x28 píxels\n",
    "tam_img_flat = tam_img * tam_img #a representação da imagem em um vetor terá dimensão 28x28\n",
    "forma_img = (tam_img, tam_img) #em certas ocasiões é necessário representar a imagem como um vetor, outras é melhor como tupla\n",
    "num_canais = 1 #O número de canais de cor que utilizaremos, vamos deixar apenas 1 canal que representa escalas de cinza\n",
    "num_classes = 10 #quantos dígitos possíveis nós temos, são as classes que representam os dados de saída"
   ]
  },
  {
   "cell_type": "code",
   "execution_count": 7,
   "metadata": {},
   "outputs": [],
   "source": [
    "#função auxiliar para plotar imagens dos dígitos\n",
    "    \n",
    "def plot_images(images, cls_true, cls_pred=None):\n",
    "    #o parâmetro imagens representa a imagem do dataset a ser utilizada para plotar\n",
    "    #cls_true é a classificação correta da imagem\n",
    "    #cls_pred é a predição da classificação da imagem, como padrão mantive como None para que possa ser utilizado para \n",
    "    #plotar imagens sem aplicar o algoritmo\n",
    "    assert len(images) == len(cls_true) == 9 #vamos representar a imagem como uma grade 3x3\n",
    "    \n",
    "    #criando a figura como uma grade 3x3\n",
    "    fig, axes = plt.subplots(3, 3)\n",
    "    fig.subplots_adjust(hspace=0.3, wspace=0.3)\n",
    "\n",
    "    for i, ax in enumerate(axes.flat):\n",
    "        #plotando a imagem\n",
    "        ax.imshow(images[i].reshape(forma_img), cmap='binary')\n",
    "\n",
    "        #criando legendas, caso necessário, para cls_verd e cls_pred\n",
    "        if cls_pred is None:\n",
    "            xlabel = \"Verd: {0}\".format(cls_true[i])\n",
    "        else:\n",
    "            xlabel = \"Verd: {0}, Pred: {1}\".format(cls_true[i], cls_pred[i])\n",
    "\n",
    "        #exibindo a legenda\n",
    "        ax.set_xlabel(xlabel)\n",
    "        \n",
    "        ax.set_xticks([])\n",
    "        ax.set_yticks([])\n",
    "    \n",
    "    plt.show()"
   ]
  },
  {
   "cell_type": "code",
   "execution_count": 8,
   "metadata": {},
   "outputs": [
    {
     "data": {
      "image/png": "[encoded data removed]",
      "text/plain": [
       "<Figure size 432x288 with 9 Axes>"
      ]
     },
     "metadata": {},
     "output_type": "display_data"
    }
   ],
   "source": [
    "#Testando a função\n",
    "imagens = dados.test.images[0:9] #pegando as 9 primeiras imagens dos dados de teste\n",
    "\n",
    "cls_verd = dados.test.cls[0:9] #pegando as respectivas classificações\n",
    "\n",
    "plot_images(imagens, cls_verd)"
   ]
  },
  {
   "cell_type": "markdown",
   "metadata": {},
   "source": [
    "O nosso algoritmo de redes neurais convolucionais é baseado em alguns elementos primários, que compõem diretamente a rede, que é formada por duas camadas chamadas de input layer (que é a camada de entrada de dados) e output layer (a camada de saída de dados). Entre essas duas camadas existem outras camadas que são as convolutional layers (camadas convolucionais), ReLU (Rectified Linear Units - Unidades Lineares retificadas) e full_connected layers (camadas totalmente conectadas). Para gerar os inputs da full_connected layer, vamos usar uma camada de flatten layers (camadas achatadas). As camadas convolucionais são constituídas de neurônios, assim como no modelo linear os neurônios aqui dependem de pesos (weights) e viéses (biases) e de uma função de ativação $\\sigma\\left( z \\right) = \\dfrac{1}{1+ e^{-z}}$. "
   ]
  },
  {
   "cell_type": "code",
   "execution_count": 9,
   "metadata": {},
   "outputs": [],
   "source": [
    "#definindo uma função para gerar novos pesos (weights) e novos viéses (biases)\n",
    "def new_weights(forma):\n",
    "    #a linha abaixo vai gerar uma variável que será utilizada pelas funções do tensorflow, utilizei a classe Variable no\n",
    "    #lugar de Tensor porque os valores atribuídos a Variable são persistentes fora de session.run.\n",
    "    #A variável vai ser gerada através da função truncated_normal que pega um valor de uma distribuição normal com média\n",
    "    #m = 0 e desvio padrão igual ao stddev (Standart Deviation - Desvio Padrão).\n",
    "    #Esta variável vai ser representada através de uma variável que tem uma \"forma\" designada pelo parâmetro forma.\n",
    "    return tf.Variable(tf.truncated_normal(forma, stddev=0.05))\n",
    "\n",
    "def new_biases(length):\n",
    "    return tf.Variable(tf.constant(0.05, shape=[length]))\n",
    "\n",
    "#definindo uma camada convolucional\n",
    "def new_conv_layer(input, num_canais_input, tam_filtro, num_filtros, use_pooling=True):\n",
    "    #input é a entrada de dados, que corresponde à saída de dados da camada anterior\n",
    "    #num_canais_input é o número de canais de entrada\n",
    "    #tam_filtro é o tamanho do filtro em altura e largura\n",
    "    #num_filtros é a quantidade de filtros\n",
    "    #use_pooling diz se está sendo utilizado o processo de pooling ou não\n",
    "    \n",
    "    forma = [tam_filtro, tam_filtro, num_canais_input, num_filtros]\n",
    "    \n",
    "    weights = new_weights(forma=forma)\n",
    "    biases = new_biases(length=num_filtros)\n",
    "    \n",
    "    #aqui irei utilizar uma função do tensorflow que cria a operação para a convolução\n",
    "    #stride possui 3 dimensões e vai ser mantido em 1 em elas\n",
    "    #a primeira e a última dimensão do stride determinam respectivamente o número de imagens e o último é o número\n",
    "    #de canais\n",
    "    #as duas dimensões intermediárias representam respectivamente quanto o filtro se move no eixo x e no eixo y\n",
    "    #o padding='SAME' preenche com zero os valores do filtro que ficariam vazios\n",
    "    layer = tf.nn.conv2d(input=input, filter=weights, strides=[1,1,1,1], padding='SAME')\n",
    "    \n",
    "    #a linha acima quer dizer que os filtros são os pesos e que eles serão aplicados aos valores de entrada\n",
    "    #abaixo vamos aplicar os viéses ao layer\n",
    "    layer += biases\n",
    "    \n",
    "    #o processo de pooling simplifica a imagem e acaba por reduzir as dimensões da imagem, vamos usar aqui o processo\n",
    "    #de pooling com uma janela 2x2 píxels\n",
    "    if use_pooling:\n",
    "        layer = tf.nn.max_pool(value=layer, ksize=[1,2,2,1], strides=[1,2,2,1], padding='SAME')\n",
    "        \n",
    "    #ReLU\n",
    "    #os valores negativos que aparecem são trocados por zero\n",
    "    layer = tf.nn.relu(layer)\n",
    "    \n",
    "    return layer, weights\n",
    "\n",
    "#definindo uma camada achatada\n",
    "def flatten_layer(layer):\n",
    "    #pegando a forma da camada recebida\n",
    "    forma_camada = layer.get_shape()\n",
    "    \n",
    "    #vamos assumir aqui que a camada de entrada tem a forma [num-imagens, altura_img, largura_img, num_canais]\n",
    "    \n",
    "    #o número de características é dado pelo produto das dimensões 2, 3 e 4, no caso\n",
    "    #altura_img * largura_img * num_canais\n",
    "    #o tensorflow tem uma função para fazer esse cálculo\n",
    "    num_features = forma_camada[1:4].num_elements()\n",
    "    \n",
    "    #agora vamos \"achatar\" a camada\n",
    "    layer_flat = tf.reshape(layer, [-1, num_features])\n",
    "    \n",
    "    return layer_flat, num_features\n",
    "\n",
    "#definindo uma camada totalmente conectada (full-connected layer)\n",
    "def new_fc_layer(input, num_inputs, num_outputs, use_relu=True):\n",
    "    #criando novos pesos e viéses\n",
    "    weights = new_weights(forma=[num_inputs, num_outputs])\n",
    "    biases = new_biases(length=num_outputs)\n",
    "    \n",
    "    #aqui é um processo de multiplicação de matrizes e depois adição de matrizes,\n",
    "    #vamos multiplicar uma matriz contendo os inputs com uma matriz contendo os pesos e depois adicionando uma\n",
    "    #matriz contendo os viéses\n",
    "    layer = tf.matmul(input, weights) + biases\n",
    "    \n",
    "    if use_relu:\n",
    "        layer = tf.nn.relu(layer)\n",
    "    \n",
    "    return layer"
   ]
  },
  {
   "cell_type": "markdown",
   "metadata": {},
   "source": [
    "Neste ponto do código vamos gerar algumas variáveis que serão responsáveis de receber valores que serão alterados a cada vez que o grafo da CNN for executado."
   ]
  },
  {
   "cell_type": "code",
   "execution_count": 10,
   "metadata": {},
   "outputs": [],
   "source": [
    "x = tf.placeholder(tf.float32, shape=[None, tam_img_flat], name='x')\n",
    "#None no shape está dizendo que x vai receber inúmeros valores, cada um sendo um vetor cujo tamanho é tam_img_flat\n",
    "\n",
    "x_image = tf.reshape(x, [-1, tam_img, tam_img, num_canais])\n",
    "\n",
    "y_verd = tf.placeholder(tf.float32, shape=[None, num_classes], name='y_verd')\n",
    "\n",
    "y_verd_cls = tf.argmax(y_verd, axis=1)"
   ]
  },
  {
   "cell_type": "markdown",
   "metadata": {},
   "source": [
    "Até agora nada foi calculado, apenas \"preparamos o terreno\". Agora vamos começar a montar nosso grafo CNN."
   ]
  },
  {
   "cell_type": "code",
   "execution_count": 11,
   "metadata": {},
   "outputs": [],
   "source": [
    "#Camada convolucional 1\n",
    "filter_size1 = 5\n",
    "num_filters1 = 16\n",
    "\n",
    "#Camada convolucional 2\n",
    "filter_size2 = 5\n",
    "num_filters2 = 36\n",
    "\n",
    "#Camada totalmente conectada\n",
    "fc_size = 128"
   ]
  },
  {
   "cell_type": "code",
   "execution_count": 12,
   "metadata": {},
   "outputs": [],
   "source": [
    "#criando a primeira camada\n",
    "layer_conv1, weights_conv1 = new_conv_layer(x_image, num_canais, filter_size1, num_filters1, use_pooling=True)\n",
    "\n",
    "#criando a segunda camada\n",
    "layer_conv2, weights_conv2 = new_conv_layer(layer_conv1, num_filters1, filter_size2, num_filters2, use_pooling=True)"
   ]
  },
  {
   "cell_type": "code",
   "execution_count": 13,
   "metadata": {},
   "outputs": [],
   "source": [
    "#criando a camada achatada\n",
    "layer_flat, num_features = flatten_layer(layer_conv2)"
   ]
  },
  {
   "cell_type": "code",
   "execution_count": 14,
   "metadata": {},
   "outputs": [],
   "source": [
    "#criando a camada totalmente conectada 1\n",
    "layer_fc1 = new_fc_layer(layer_flat, num_features, fc_size, use_relu=True)\n",
    "\n",
    "#criando a camada totalmente conectada 2\n",
    "layer_fc2 = new_fc_layer(layer_fc1, fc_size, num_classes, use_relu=False)"
   ]
  },
  {
   "cell_type": "markdown",
   "metadata": {},
   "source": [
    "Com isso temos nossa CNN criada, nossa CNN está composta por duas camadas convolucionais uma seguida da outra, uma flatten layer e, em seguida, duas camadas totalmente conectadas. A última camada gerará os outputs que nos dará a predição de qual número está representado na imagem de input. "
   ]
  },
  {
   "cell_type": "code",
   "execution_count": 15,
   "metadata": {},
   "outputs": [],
   "source": [
    "#y_pred está recebendo o output da camada totalmente conectada 2\n",
    "y_pred = tf.nn.softmax(layer_fc2)\n",
    "\n",
    "#o y_pred_cls está pegando o índice do maior valor em y_pred\n",
    "y_pred_cls = tf.argmax(y_pred, axis=1)"
   ]
  },
  {
   "cell_type": "markdown",
   "metadata": {},
   "source": [
    "O algoritmo necessita ser otimizado utilizando um algoritmo de otimização. Aqui utilizaremos o Adam optimization algorithms (Adam é derivado de Adaptative Moment Estimation) que é uma extensão do algoritmo Stochastic Gradient Descent. Ele é utilizado porque é fácil de implementar, é eficiente computacionalmente, requer pouca memória, é bom para problemas com grande quantidade de dados ou parâmetros e etc.\n",
    "\n",
    "O algoritmo pode ser encontrado na internet, inclusive no artigo 'Adam: A Method for Stochastic Optimization'. \n",
    "\n",
    "Aqui utilizarei a função do tensorflow."
   ]
  },
  {
   "cell_type": "code",
   "execution_count": 40,
   "metadata": {},
   "outputs": [],
   "source": [
    "cross_entropy = tf.nn.softmax_cross_entropy_with_logits(logits=layer_fc2, labels=y_verd)\n",
    "cost = tf.reduce_mean(cross_entropy)\n",
    "otimizador = tf.train.AdamOptimizer(learning_rate=0.01).minimize(cost)"
   ]
  },
  {
   "cell_type": "markdown",
   "metadata": {},
   "source": [
    "Agora vamos definir as medidas de performance acurácia (accuracy) e a predição correta (pred_certa)."
   ]
  },
  {
   "cell_type": "code",
   "execution_count": 17,
   "metadata": {},
   "outputs": [],
   "source": [
    "pred_certa = tf.equal(y_pred_cls, y_verd_cls)\n",
    "accuracy = tf.reduce_mean(tf.cast(pred_certa, tf.float32))"
   ]
  },
  {
   "cell_type": "markdown",
   "metadata": {},
   "source": [
    "Agora vamos executar o algoritmo."
   ]
  },
  {
   "cell_type": "code",
   "execution_count": 18,
   "metadata": {},
   "outputs": [],
   "source": [
    "session = tf.Session()"
   ]
  },
  {
   "cell_type": "code",
   "execution_count": 19,
   "metadata": {},
   "outputs": [],
   "source": [
    "session.run(tf.global_variables_initializer()) #inicializando pesos e viéses"
   ]
  },
  {
   "cell_type": "code",
   "execution_count": 20,
   "metadata": {},
   "outputs": [],
   "source": [
    "train_batch_size = 64 #tamanho do lote de treinamento\n",
    "#não utilizaremos todos os dados de uma única vez, mas utilizaremos pacotes"
   ]
  },
  {
   "cell_type": "code",
   "execution_count": 21,
   "metadata": {},
   "outputs": [],
   "source": [
    "#iniciando contagem de treinamentos efetuados\n",
    "total_iterations = 0\n",
    "\n",
    "def optimize(num_iterations):\n",
    "    #atualiando a variável global\n",
    "    global total_iterations\n",
    "    \n",
    "    #contagem do tempo que demorou o treinamento\n",
    "    start_time = time.time()\n",
    "    \n",
    "    for i in range(total_iterations, total_iterations + num_iterations):\n",
    "        \n",
    "        #pegando um lote de treinamento\n",
    "        x_batch, y_true_batch = dados.train.next_batch(train_batch_size)\n",
    "        \n",
    "        #colocando os lotes em um dicionário com as variáveis criadas no tensorflow\n",
    "        feed_dict_train = {x: x_batch, y_verd: y_true_batch}\n",
    "        \n",
    "        session.run(otimizador, feed_dict=feed_dict_train)\n",
    "        \n",
    "        #imprimindo o status a cada 50 interações\n",
    "        if i%50 == 0:\n",
    "            #calculando a acurácia\n",
    "            acc = session.run(accuracy, feed_dict=feed_dict_train)\n",
    "            \n",
    "            msg = \"Iteração de otimização: {0:>6}, Acurácia do treinamento: {1:>6.1%}\"\n",
    "            print(msg.format(i+1, acc))\n",
    "        \n",
    "    total_iterations += num_iterations\n",
    "        \n",
    "    #finalizando a contagem do tempo\n",
    "    end_time = time.time()\n",
    "        \n",
    "    time_dif = end_time - start_time\n",
    "        \n",
    "    print(\"Tempo gasto: \"+str(timedelta(seconds=int(round(time_dif)))))"
   ]
  },
  {
   "cell_type": "code",
   "execution_count": 22,
   "metadata": {},
   "outputs": [],
   "source": [
    "def plot_example_errors(cls_pred, correct):\n",
    "    incorrect = (correct == False)\n",
    "    \n",
    "    images = dados.test.images[incorrect]\n",
    "    \n",
    "    cls_pred = cls_pred[incorrect]\n",
    "    \n",
    "    cls_true = dados.test.cls[incorrect]\n",
    "    \n",
    "    plot_images(images[0:9], cls_true[0:9], cls_pred[0:9])"
   ]
  },
  {
   "cell_type": "code",
   "execution_count": 23,
   "metadata": {},
   "outputs": [],
   "source": [
    "def plot_confusion_matrix(cls_pred):\n",
    "    cls_true = dados.test.cls\n",
    "    cm = confusion_matrix(y_true=cls_true, y_pred=cls_pred)\n",
    "    \n",
    "    print(cm)\n",
    "    \n",
    "    plt.matshow(cm)\n",
    "    \n",
    "    plt.colorbar()\n",
    "    tick_marks = np.arange(num_classes)\n",
    "    plt.xticks(tick_marks, range(num_classes))\n",
    "    plt.yticks(tick_marks, range(num_classes))\n",
    "    plt.xlabel('Pred')\n",
    "    plt.ylabel('Verd')\n",
    "    \n",
    "    plt.show()"
   ]
  },
  {
   "cell_type": "code",
   "execution_count": 24,
   "metadata": {},
   "outputs": [],
   "source": [
    "test_batch_size = 256\n",
    "\n",
    "def print_test_accuracy(show_example_errors=False, show_confusion_matrix=False):\n",
    "    #número de imagens no conjunto de testes\n",
    "    num_test = len(dados.test.images)\n",
    "    \n",
    "    #alocando uma array para as classes que foram preditas\n",
    "    cls_pred = np.zeros(shape=num_test, dtype=np.int)\n",
    "    \n",
    "    i = 0\n",
    "    \n",
    "    while i < num_test:\n",
    "        #j é o índice de finalização do próximo lote\n",
    "        j = min(i + test_batch_size, num_test)\n",
    "        \n",
    "        #pegando as imagens do conjunto de testes do índice i até o índice j\n",
    "        images = dados.test.images[i:j, :]\n",
    "        \n",
    "        #pegando as classificações associadas\n",
    "        labels = dados.test.labels[i:j, :]\n",
    "        \n",
    "        feed_dict = {x:images, y_verd: labels}\n",
    "        \n",
    "        #calculando a previsão da classe usando o tensorflow\n",
    "        cls_pred[i:j] = session.run(y_pred_cls, feed_dict=feed_dict)\n",
    "        \n",
    "        i = j\n",
    "    \n",
    "    cls_true = dados.test.cls\n",
    "    \n",
    "    correct = (cls_true == cls_pred)\n",
    "    \n",
    "    #calculando o número de imagens corretamente classificadas\n",
    "    correct_sum = correct.sum()\n",
    "    \n",
    "    #classificando a acurácia\n",
    "    acc = float(correct_sum) / num_test\n",
    "    \n",
    "    #imprimindo a acurácia\n",
    "    msg = \"Accuracy no conjunto de dados: {0:.1%} ({1} / {2})\"\n",
    "    print(msg.format(acc, correct_sum, num_test))\n",
    "    \n",
    "    #plotando os exemplos:\n",
    "    if show_example_errors:\n",
    "        print(\"Exemplos dos erros:\")\n",
    "        plot_example_errors(cls_pred=cls_pred, correct=correct)\n",
    "    \n",
    "    #plotando a matriz de confusão\n",
    "    if show_confusion_matrix:\n",
    "        print(\"Matriz de confusão\")\n",
    "        plot_confusion_matrix(cls_pred=cls_pred)"
   ]
  },
  {
   "cell_type": "code",
   "execution_count": 25,
   "metadata": {},
   "outputs": [
    {
     "name": "stdout",
     "output_type": "stream",
     "text": [
      "Accuracy no conjunto de dados: 7.7% (769 / 10000)\n"
     ]
    }
   ],
   "source": [
    "#rodando o teste\n",
    "print_test_accuracy()"
   ]
  },
  {
   "cell_type": "markdown",
   "metadata": {},
   "source": [
    "Como vimos acima, sem nenhuma otimização, o reconhecimento dos dígitos tem uma acurácia baixa.\n",
    "Vamos realizar a otimização e verificar como a acurácia melhora conforme o algoritmo é treinado."
   ]
  },
  {
   "cell_type": "code",
   "execution_count": 26,
   "metadata": {},
   "outputs": [
    {
     "name": "stdout",
     "output_type": "stream",
     "text": [
      "Iteração de otimização:      1, Acurácia do treinamento:  25.0%\n",
      "Iteração de otimização:     51, Acurácia do treinamento:  71.9%\n",
      "Tempo gasto: 0:00:12\n"
     ]
    }
   ],
   "source": [
    "optimize(100)"
   ]
  },
  {
   "cell_type": "code",
   "execution_count": 27,
   "metadata": {},
   "outputs": [
    {
     "name": "stdout",
     "output_type": "stream",
     "text": [
      "Accuracy no conjunto de dados: 93.8% (9378 / 10000)\n",
      "Exemplos dos erros:\n"
     ]
    },
    {
     "data": {
      "image/png": "[encoded data removed]",
      "text/plain": [
       "<Figure size 432x288 with 9 Axes>"
      ]
     },
     "metadata": {},
     "output_type": "display_data"
    },
    {
     "name": "stdout",
     "output_type": "stream",
     "text": [
      "Matriz de confusão\n",
      "[[ 923    0    7    3    1    6   14    1   12   13]\n",
      " [   0 1100    4    0    0    0    9    0   22    0]\n",
      " [   9    0  970   14    3    0    1   10   18    7]\n",
      " [   0    0   11  939    0   16    0   16   21    7]\n",
      " [   0    2    2    0  887    0   19   10    1   61]\n",
      " [   3    4    3    9    8  807    5    1   29   23]\n",
      " [  10    6    1    0   12    6  916    0    7    0]\n",
      " [   0    4   18   12    2    0    0  967    5   20]\n",
      " [   1    3    5    8    4    7    4    3  916   23]\n",
      " [   1    6    1    6   13    4    1   13   11  953]]\n"
     ]
    },
    {
     "data": {
      "image/png": "[encoded data removed]",
      "text/plain": [
       "<Figure size 288x288 with 2 Axes>"
      ]
     },
     "metadata": {},
     "output_type": "display_data"
    }
   ],
   "source": [
    "print_test_accuracy(True, True)"
   ]
  },
  {
   "cell_type": "markdown",
   "metadata": {},
   "source": [
    "Com poucas iterações o algorítmo já se tornou bem eficaz. A matriz apresentada é representada utilizando cores logo abaixo. Esta matriz é lida da seguinte maneira: as colunas são as predições e as linhas são as classificações corretas.\n",
    "\n",
    "Exemplo:\n",
    "primeira coluna: 923 vezes o algoritmo clasdificou um zero como um zero, 0 vezes ele identificou o 1 como zero, 9 vezes identificou o 2 como 0, 0 vezes identificou o 3 como 0 e etc.\n",
    "\n",
    "A imagem colorida representa a imagem utilizando cores como escala.\n",
    "\n",
    "Vamos criar algumas funções para ver como o algoritmo definiu os pesos em cada filtro nas camadas e tentar entender como ele faz as alterações conforme o número de iterações de treinamentos são efetuadas."
   ]
  },
  {
   "cell_type": "code",
   "execution_count": 28,
   "metadata": {},
   "outputs": [],
   "source": [
    "def plot_conv_weights(weights, input_channel=0):\n",
    "    #recebendo os pesos\n",
    "    w = session.run(weights)\n",
    "    \n",
    "    #identificando os menores e os maiores valores de w\n",
    "    w_min = np.min(w)\n",
    "    w_max = np.max(w)\n",
    "    \n",
    "    #número de filtros utilizados na camada convolucional\n",
    "    num_filters = w.shape[3]\n",
    "    \n",
    "    #número de grades a exibir\n",
    "    num_grids = math.ceil(math.sqrt(num_filters))\n",
    "    \n",
    "    fig, axes = plt.subplots(num_grids, num_grids)\n",
    "    \n",
    "    #criando as figuras\n",
    "    for i, ax in enumerate(axes.flat):\n",
    "        if i < num_filters:\n",
    "            img = w[:, :, input_channel, i]\n",
    "            \n",
    "            #plotando a imagem\n",
    "            ax.imshow(img, vmin=w_min, vmax=w_max, interpolation='nearest', cmap='seismic')\n",
    "        \n",
    "        ax.set_xticks([])\n",
    "        ax.set_yticks([])\n",
    "    \n",
    "    plt.show()"
   ]
  },
  {
   "cell_type": "code",
   "execution_count": 29,
   "metadata": {},
   "outputs": [],
   "source": [
    "def plot_conv_layer(layer, image):\n",
    "    feed_dict = {x: [image]}\n",
    "    \n",
    "    #calculando e guardando as saídas de dado da camada depois do input\n",
    "    values = session.run(layer, feed_dict=feed_dict)\n",
    "    \n",
    "    #número de filtros na camada de convolução\n",
    "    num_filters = values.shape[3]\n",
    "    \n",
    "    num_grids = math.ceil(math.sqrt(num_filters))\n",
    "    \n",
    "    fig, axes = plt.subplots(num_grids, num_grids)\n",
    "    \n",
    "    for i, ax in enumerate(axes.flat):\n",
    "        if i < num_filters:\n",
    "            img = values[0, :, :, i]\n",
    "            \n",
    "            ax.imshow(img, interpolation='nearest', cmap='binary')\n",
    "            \n",
    "        ax.set_xticks([])\n",
    "        ax.set_yticks([])\n",
    "    \n",
    "    plt.show()"
   ]
  },
  {
   "cell_type": "code",
   "execution_count": 30,
   "metadata": {},
   "outputs": [],
   "source": [
    "#plotando imagens\n",
    "def plot_image(image):\n",
    "    plt.imshow(image.reshape(forma_img), interpolation='nearest', cmap='binary')\n",
    "    plt.show()"
   ]
  },
  {
   "cell_type": "markdown",
   "metadata": {},
   "source": [
    "Dado um input qualquer, digamos 36. Qual a imagem correspondente a essa entrada no conjunto de testes?"
   ]
  },
  {
   "cell_type": "code",
   "execution_count": 31,
   "metadata": {},
   "outputs": [
    {
     "data": {
      "image/png": "[encoded data removed]",
      "text/plain": [
       "<Figure size 432x288 with 1 Axes>"
      ]
     },
     "metadata": {},
     "output_type": "display_data"
    }
   ],
   "source": [
    "image1 = dados.test.images[36]\n",
    "plot_image(image1)"
   ]
  },
  {
   "cell_type": "markdown",
   "metadata": {},
   "source": [
    "A imagem corresponde a um número 7. Vejamos como a camada convolucional recebe essa imagem tanto na camada 1 como na camada 2 e visualizando os pesos."
   ]
  },
  {
   "cell_type": "code",
   "execution_count": 32,
   "metadata": {},
   "outputs": [
    {
     "data": {
      "image/png": "[encoded data removed]",
      "text/plain": [
       "<Figure size 432x288 with 16 Axes>"
      ]
     },
     "metadata": {},
     "output_type": "display_data"
    }
   ],
   "source": [
    "plot_conv_layer(layer_conv1, image1)"
   ]
  },
  {
   "cell_type": "code",
   "execution_count": 33,
   "metadata": {},
   "outputs": [
    {
     "data": {
      "image/png": "[encoded data removed]",
      "text/plain": [
       "<Figure size 432x288 with 36 Axes>"
      ]
     },
     "metadata": {},
     "output_type": "display_data"
    }
   ],
   "source": [
    "plot_conv_layer(layer_conv2, image1)"
   ]
  },
  {
   "cell_type": "code",
   "execution_count": 34,
   "metadata": {},
   "outputs": [
    {
     "data": {
      "image/png": "[encoded data removed]",
      "text/plain": [
       "<Figure size 432x288 with 16 Axes>"
      ]
     },
     "metadata": {},
     "output_type": "display_data"
    }
   ],
   "source": [
    "plot_conv_weights(weights_conv1)"
   ]
  },
  {
   "cell_type": "code",
   "execution_count": 35,
   "metadata": {},
   "outputs": [
    {
     "data": {
      "image/png": "[encoded data removed]",
      "text/plain": [
       "<Figure size 432x288 with 36 Axes>"
      ]
     },
     "metadata": {},
     "output_type": "display_data"
    }
   ],
   "source": [
    "plot_conv_weights(weights_conv2)"
   ]
  },
  {
   "cell_type": "markdown",
   "metadata": {},
   "source": [
    "Os pontos vermelhos são os pontos em que o neurônio reage positivamente, enquanto os azuis são os pontos em que o neurônio reage negativamente. Conforme podemos ver, com apenas 100 iterações de treinamento o algoritmo foi capaz de aumentar asustadoramente a acurácia, entretanto os pesos ainda estão um tanto irregulares. Podemos averiguar isso vendo as imagens do 7 nas camadas convolucionais. \n",
    "\n",
    "Vamos repetir o processo algumas vezes aumentando o número de iterações em cada tentativa e vamos analizar o que acontece."
   ]
  },
  {
   "cell_type": "code",
   "execution_count": 36,
   "metadata": {},
   "outputs": [
    {
     "name": "stdout",
     "output_type": "stream",
     "text": [
      "Iteração de otimização:    101, Acurácia do treinamento:  92.2%\n",
      "Iteração de otimização:    151, Acurácia do treinamento:  95.3%\n",
      "Iteração de otimização:    201, Acurácia do treinamento:  98.4%\n",
      "Iteração de otimização:    251, Acurácia do treinamento:  98.4%\n",
      "Iteração de otimização:    301, Acurácia do treinamento:  98.4%\n",
      "Iteração de otimização:    351, Acurácia do treinamento:  93.8%\n",
      "Iteração de otimização:    401, Acurácia do treinamento:  98.4%\n",
      "Iteração de otimização:    451, Acurácia do treinamento: 100.0%\n",
      "Tempo gasto: 0:00:45\n",
      "Accuracy no conjunto de dados: 97.3% (9730 / 10000)\n",
      "Exemplos dos erros:\n"
     ]
    },
    {
     "data": {
      "image/png": "[encoded data removed]",
      "text/plain": [
       "<Figure size 432x288 with 9 Axes>"
      ]
     },
     "metadata": {},
     "output_type": "display_data"
    },
    {
     "name": "stdout",
     "output_type": "stream",
     "text": [
      "Matriz de confusão\n",
      "[[ 941    0    2    0    0    3   27    1    4    2]\n",
      " [   0 1113    3    1    0    2    2    3   11    0]\n",
      " [   0    0 1000    2    3    0    0    7   20    0]\n",
      " [   0    0    3  979    0   14    0    7    7    0]\n",
      " [   0    0    1    0  966    1    1    4    1    8]\n",
      " [   0    0    1    5    0  877    5    0    4    0]\n",
      " [   2    5    0    0   13    2  933    0    3    0]\n",
      " [   0    1   11    1    0    0    0 1004    3    8]\n",
      " [   0    0    1    2    1    4   10    0  951    5]\n",
      " [   3    4    1    2    9   14    1    2    7  966]]\n"
     ]
    },
    {
     "data": {
      "image/png": "[encoded data removed]",
      "text/plain": [
       "<Figure size 288x288 with 2 Axes>"
      ]
     },
     "metadata": {},
     "output_type": "display_data"
    }
   ],
   "source": [
    "optimize(400)\n",
    "print_test_accuracy(True, True)"
   ]
  },
  {
   "cell_type": "markdown",
   "metadata": {},
   "source": [
    "Podemos ver que o número de erros diminuiu bastante. É interessante verificar que até agora fizemos apenas 500 iterações de treinamento e o algoritmo já teve uma boa otimização."
   ]
  },
  {
   "cell_type": "code",
   "execution_count": 37,
   "metadata": {},
   "outputs": [
    {
     "data": {
      "image/png": "[encoded data removed]",
      "text/plain": [
       "<Figure size 432x288 with 16 Axes>"
      ]
     },
     "metadata": {},
     "output_type": "display_data"
    },
    {
     "data": {
      "image/png": "[encoded data removed]",
      "text/plain": [
       "<Figure size 432x288 with 36 Axes>"
      ]
     },
     "metadata": {},
     "output_type": "display_data"
    },
    {
     "data": {
      "image/png": "[encoded data removed]",
      "text/plain": [
       "<Figure size 432x288 with 16 Axes>"
      ]
     },
     "metadata": {},
     "output_type": "display_data"
    },
    {
     "data": {
      "image/png": "[encoded data removed]",
      "text/plain": [
       "<Figure size 432x288 with 36 Axes>"
      ]
     },
     "metadata": {},
     "output_type": "display_data"
    }
   ],
   "source": [
    "plot_conv_layer(layer_conv1, image1)\n",
    "plot_conv_layer(layer_conv2, image1)\n",
    "plot_conv_weights(weights_conv1)\n",
    "plot_conv_weights(weights_conv2)"
   ]
  },
  {
   "cell_type": "markdown",
   "metadata": {},
   "source": [
    "Embora a otimização tenha aumentado a acurácia, os pesos ainda estão irregulares. Agora na segunda camada basicamente todos os píxels causam uma reação positiva em maior ou menor grau nos neurônios. Não dá para interpretar adequadamente as camadas neurais onde as imagens do 7 aparecem.\n",
    "\n",
    "Vamos aumentar o número de iterações para 9500 e vejamos o que ocorre."
   ]
  },
  {
   "cell_type": "code",
   "execution_count": 38,
   "metadata": {},
   "outputs": [
    {
     "name": "stdout",
     "output_type": "stream",
     "text": [
      "Iteração de otimização:    501, Acurácia do treinamento: 100.0%\n",
      "Iteração de otimização:    551, Acurácia do treinamento: 100.0%\n",
      "Iteração de otimização:    601, Acurácia do treinamento: 100.0%\n",
      "Iteração de otimização:    651, Acurácia do treinamento: 100.0%\n",
      "Iteração de otimização:    701, Acurácia do treinamento: 100.0%\n",
      "Iteração de otimização:    751, Acurácia do treinamento:  98.4%\n",
      "Iteração de otimização:    801, Acurácia do treinamento:  98.4%\n",
      "Iteração de otimização:    851, Acurácia do treinamento: 100.0%\n",
      "Iteração de otimização:    901, Acurácia do treinamento:  98.4%\n",
      "Iteração de otimização:    951, Acurácia do treinamento:  98.4%\n",
      "Iteração de otimização:   1001, Acurácia do treinamento:  95.3%\n",
      "Iteração de otimização:   1051, Acurácia do treinamento:  98.4%\n",
      "Iteração de otimização:   1101, Acurácia do treinamento: 100.0%\n",
      "Iteração de otimização:   1151, Acurácia do treinamento: 100.0%\n",
      "Iteração de otimização:   1201, Acurácia do treinamento:  98.4%\n",
      "Iteração de otimização:   1251, Acurácia do treinamento:  98.4%\n",
      "Iteração de otimização:   1301, Acurácia do treinamento: 100.0%\n",
      "Iteração de otimização:   1351, Acurácia do treinamento:  98.4%\n",
      "Iteração de otimização:   1401, Acurácia do treinamento:  98.4%\n",
      "Iteração de otimização:   1451, Acurácia do treinamento: 100.0%\n",
      "Iteração de otimização:   1501, Acurácia do treinamento:  96.9%\n",
      "Iteração de otimização:   1551, Acurácia do treinamento: 100.0%\n",
      "Iteração de otimização:   1601, Acurácia do treinamento: 100.0%\n",
      "Iteração de otimização:   1651, Acurácia do treinamento:  98.4%\n",
      "Iteração de otimização:   1701, Acurácia do treinamento:  98.4%\n",
      "Iteração de otimização:   1751, Acurácia do treinamento: 100.0%\n",
      "Iteração de otimização:   1801, Acurácia do treinamento: 100.0%\n",
      "Iteração de otimização:   1851, Acurácia do treinamento:  96.9%\n",
      "Iteração de otimização:   1901, Acurácia do treinamento:  96.9%\n",
      "Iteração de otimização:   1951, Acurácia do treinamento: 100.0%\n",
      "Iteração de otimização:   2001, Acurácia do treinamento:  98.4%\n",
      "Iteração de otimização:   2051, Acurácia do treinamento:  98.4%\n",
      "Iteração de otimização:   2101, Acurácia do treinamento:  98.4%\n",
      "Iteração de otimização:   2151, Acurácia do treinamento: 100.0%\n",
      "Iteração de otimização:   2201, Acurácia do treinamento:  96.9%\n",
      "Iteração de otimização:   2251, Acurácia do treinamento: 100.0%\n",
      "Iteração de otimização:   2301, Acurácia do treinamento: 100.0%\n",
      "Iteração de otimização:   2351, Acurácia do treinamento: 100.0%\n",
      "Iteração de otimização:   2401, Acurácia do treinamento:  98.4%\n",
      "Iteração de otimização:   2451, Acurácia do treinamento: 100.0%\n",
      "Iteração de otimização:   2501, Acurácia do treinamento: 100.0%\n",
      "Iteração de otimização:   2551, Acurácia do treinamento: 100.0%\n",
      "Iteração de otimização:   2601, Acurácia do treinamento:  98.4%\n",
      "Iteração de otimização:   2651, Acurácia do treinamento: 100.0%\n",
      "Iteração de otimização:   2701, Acurácia do treinamento: 100.0%\n",
      "Iteração de otimização:   2751, Acurácia do treinamento: 100.0%\n",
      "Iteração de otimização:   2801, Acurácia do treinamento:  98.4%\n",
      "Iteração de otimização:   2851, Acurácia do treinamento: 100.0%\n",
      "Iteração de otimização:   2901, Acurácia do treinamento: 100.0%\n",
      "Iteração de otimização:   2951, Acurácia do treinamento: 100.0%\n",
      "Iteração de otimização:   3001, Acurácia do treinamento:  98.4%\n",
      "Iteração de otimização:   3051, Acurácia do treinamento: 100.0%\n",
      "Iteração de otimização:   3101, Acurácia do treinamento: 100.0%\n",
      "Iteração de otimização:   3151, Acurácia do treinamento:  96.9%\n",
      "Iteração de otimização:   3201, Acurácia do treinamento: 100.0%\n",
      "Iteração de otimização:   3251, Acurácia do treinamento: 100.0%\n",
      "Iteração de otimização:   3301, Acurácia do treinamento:  98.4%\n",
      "Iteração de otimização:   3351, Acurácia do treinamento:  98.4%\n",
      "Iteração de otimização:   3401, Acurácia do treinamento:  98.4%\n",
      "Iteração de otimização:   3451, Acurácia do treinamento: 100.0%\n",
      "Iteração de otimização:   3501, Acurácia do treinamento: 100.0%\n",
      "Iteração de otimização:   3551, Acurácia do treinamento: 100.0%\n",
      "Iteração de otimização:   3601, Acurácia do treinamento: 100.0%\n",
      "Iteração de otimização:   3651, Acurácia do treinamento:  98.4%\n",
      "Iteração de otimização:   3701, Acurácia do treinamento: 100.0%\n",
      "Iteração de otimização:   3751, Acurácia do treinamento:  98.4%\n",
      "Iteração de otimização:   3801, Acurácia do treinamento: 100.0%\n",
      "Iteração de otimização:   3851, Acurácia do treinamento: 100.0%\n",
      "Iteração de otimização:   3901, Acurácia do treinamento: 100.0%\n",
      "Iteração de otimização:   3951, Acurácia do treinamento:  98.4%\n",
      "Iteração de otimização:   4001, Acurácia do treinamento: 100.0%\n",
      "Iteração de otimização:   4051, Acurácia do treinamento: 100.0%\n",
      "Iteração de otimização:   4101, Acurácia do treinamento:  98.4%\n",
      "Iteração de otimização:   4151, Acurácia do treinamento:  98.4%\n",
      "Iteração de otimização:   4201, Acurácia do treinamento: 100.0%\n",
      "Iteração de otimização:   4251, Acurácia do treinamento: 100.0%\n",
      "Iteração de otimização:   4301, Acurácia do treinamento: 100.0%\n",
      "Iteração de otimização:   4351, Acurácia do treinamento: 100.0%\n",
      "Iteração de otimização:   4401, Acurácia do treinamento: 100.0%\n",
      "Iteração de otimização:   4451, Acurácia do treinamento: 100.0%\n",
      "Iteração de otimização:   4501, Acurácia do treinamento: 100.0%\n",
      "Iteração de otimização:   4551, Acurácia do treinamento: 100.0%\n",
      "Iteração de otimização:   4601, Acurácia do treinamento:  98.4%\n",
      "Iteração de otimização:   4651, Acurácia do treinamento: 100.0%\n",
      "Iteração de otimização:   4701, Acurácia do treinamento: 100.0%\n",
      "Iteração de otimização:   4751, Acurácia do treinamento: 100.0%\n",
      "Iteração de otimização:   4801, Acurácia do treinamento:  98.4%\n",
      "Iteração de otimização:   4851, Acurácia do treinamento:  98.4%\n",
      "Iteração de otimização:   4901, Acurácia do treinamento: 100.0%\n",
      "Iteração de otimização:   4951, Acurácia do treinamento:  95.3%\n",
      "Iteração de otimização:   5001, Acurácia do treinamento: 100.0%\n",
      "Iteração de otimização:   5051, Acurácia do treinamento: 100.0%\n",
      "Iteração de otimização:   5101, Acurácia do treinamento: 100.0%\n",
      "Iteração de otimização:   5151, Acurácia do treinamento:  98.4%\n",
      "Iteração de otimização:   5201, Acurácia do treinamento: 100.0%\n",
      "Iteração de otimização:   5251, Acurácia do treinamento:  98.4%\n",
      "Iteração de otimização:   5301, Acurácia do treinamento: 100.0%\n",
      "Iteração de otimização:   5351, Acurácia do treinamento: 100.0%\n",
      "Iteração de otimização:   5401, Acurácia do treinamento:  98.4%\n",
      "Iteração de otimização:   5451, Acurácia do treinamento: 100.0%\n",
      "Iteração de otimização:   5501, Acurácia do treinamento:  98.4%\n",
      "Iteração de otimização:   5551, Acurácia do treinamento: 100.0%\n",
      "Iteração de otimização:   5601, Acurácia do treinamento: 100.0%\n",
      "Iteração de otimização:   5651, Acurácia do treinamento: 100.0%\n",
      "Iteração de otimização:   5701, Acurácia do treinamento: 100.0%\n",
      "Iteração de otimização:   5751, Acurácia do treinamento: 100.0%\n",
      "Iteração de otimização:   5801, Acurácia do treinamento: 100.0%\n",
      "Iteração de otimização:   5851, Acurácia do treinamento:  98.4%\n",
      "Iteração de otimização:   5901, Acurácia do treinamento: 100.0%\n",
      "Iteração de otimização:   5951, Acurácia do treinamento: 100.0%\n",
      "Iteração de otimização:   6001, Acurácia do treinamento: 100.0%\n",
      "Iteração de otimização:   6051, Acurácia do treinamento: 100.0%\n",
      "Iteração de otimização:   6101, Acurácia do treinamento:  96.9%\n",
      "Iteração de otimização:   6151, Acurácia do treinamento: 100.0%\n",
      "Iteração de otimização:   6201, Acurácia do treinamento:  98.4%\n",
      "Iteração de otimização:   6251, Acurácia do treinamento:  96.9%\n",
      "Iteração de otimização:   6301, Acurácia do treinamento:  98.4%\n",
      "Iteração de otimização:   6351, Acurácia do treinamento: 100.0%\n",
      "Iteração de otimização:   6401, Acurácia do treinamento:  96.9%\n",
      "Iteração de otimização:   6451, Acurácia do treinamento: 100.0%\n",
      "Iteração de otimização:   6501, Acurácia do treinamento: 100.0%\n",
      "Iteração de otimização:   6551, Acurácia do treinamento: 100.0%\n",
      "Iteração de otimização:   6601, Acurácia do treinamento: 100.0%\n",
      "Iteração de otimização:   6651, Acurácia do treinamento:  98.4%\n",
      "Iteração de otimização:   6701, Acurácia do treinamento:  98.4%\n",
      "Iteração de otimização:   6751, Acurácia do treinamento:  98.4%\n",
      "Iteração de otimização:   6801, Acurácia do treinamento: 100.0%\n",
      "Iteração de otimização:   6851, Acurácia do treinamento: 100.0%\n",
      "Iteração de otimização:   6901, Acurácia do treinamento: 100.0%\n"
     ]
    },
    {
     "name": "stdout",
     "output_type": "stream",
     "text": [
      "Iteração de otimização:   6951, Acurácia do treinamento:  98.4%\n",
      "Iteração de otimização:   7001, Acurácia do treinamento:  98.4%\n",
      "Iteração de otimização:   7051, Acurácia do treinamento:  98.4%\n",
      "Iteração de otimização:   7101, Acurácia do treinamento: 100.0%\n",
      "Iteração de otimização:   7151, Acurácia do treinamento: 100.0%\n",
      "Iteração de otimização:   7201, Acurácia do treinamento: 100.0%\n",
      "Iteração de otimização:   7251, Acurácia do treinamento:  98.4%\n",
      "Iteração de otimização:   7301, Acurácia do treinamento: 100.0%\n",
      "Iteração de otimização:   7351, Acurácia do treinamento:  98.4%\n",
      "Iteração de otimização:   7401, Acurácia do treinamento: 100.0%\n",
      "Iteração de otimização:   7451, Acurácia do treinamento: 100.0%\n",
      "Iteração de otimização:   7501, Acurácia do treinamento:  98.4%\n",
      "Iteração de otimização:   7551, Acurácia do treinamento: 100.0%\n",
      "Iteração de otimização:   7601, Acurácia do treinamento:  98.4%\n",
      "Iteração de otimização:   7651, Acurácia do treinamento:  98.4%\n",
      "Iteração de otimização:   7701, Acurácia do treinamento: 100.0%\n",
      "Iteração de otimização:   7751, Acurácia do treinamento:  98.4%\n",
      "Iteração de otimização:   7801, Acurácia do treinamento:  98.4%\n",
      "Iteração de otimização:   7851, Acurácia do treinamento:  98.4%\n",
      "Iteração de otimização:   7901, Acurácia do treinamento: 100.0%\n",
      "Iteração de otimização:   7951, Acurácia do treinamento: 100.0%\n",
      "Iteração de otimização:   8001, Acurácia do treinamento:  98.4%\n",
      "Iteração de otimização:   8051, Acurácia do treinamento: 100.0%\n",
      "Iteração de otimização:   8101, Acurácia do treinamento: 100.0%\n",
      "Iteração de otimização:   8151, Acurácia do treinamento: 100.0%\n",
      "Iteração de otimização:   8201, Acurácia do treinamento: 100.0%\n",
      "Iteração de otimização:   8251, Acurácia do treinamento: 100.0%\n",
      "Iteração de otimização:   8301, Acurácia do treinamento: 100.0%\n",
      "Iteração de otimização:   8351, Acurácia do treinamento:  96.9%\n",
      "Iteração de otimização:   8401, Acurácia do treinamento: 100.0%\n",
      "Iteração de otimização:   8451, Acurácia do treinamento: 100.0%\n",
      "Iteração de otimização:   8501, Acurácia do treinamento: 100.0%\n",
      "Iteração de otimização:   8551, Acurácia do treinamento:  98.4%\n",
      "Iteração de otimização:   8601, Acurácia do treinamento:  98.4%\n",
      "Iteração de otimização:   8651, Acurácia do treinamento: 100.0%\n",
      "Iteração de otimização:   8701, Acurácia do treinamento: 100.0%\n",
      "Iteração de otimização:   8751, Acurácia do treinamento: 100.0%\n",
      "Iteração de otimização:   8801, Acurácia do treinamento: 100.0%\n",
      "Iteração de otimização:   8851, Acurácia do treinamento:  98.4%\n",
      "Iteração de otimização:   8901, Acurácia do treinamento: 100.0%\n",
      "Iteração de otimização:   8951, Acurácia do treinamento: 100.0%\n",
      "Iteração de otimização:   9001, Acurácia do treinamento:  98.4%\n",
      "Iteração de otimização:   9051, Acurácia do treinamento: 100.0%\n",
      "Iteração de otimização:   9101, Acurácia do treinamento:  96.9%\n",
      "Iteração de otimização:   9151, Acurácia do treinamento: 100.0%\n",
      "Iteração de otimização:   9201, Acurácia do treinamento: 100.0%\n",
      "Iteração de otimização:   9251, Acurácia do treinamento: 100.0%\n",
      "Iteração de otimização:   9301, Acurácia do treinamento: 100.0%\n",
      "Iteração de otimização:   9351, Acurácia do treinamento: 100.0%\n",
      "Iteração de otimização:   9401, Acurácia do treinamento: 100.0%\n",
      "Iteração de otimização:   9451, Acurácia do treinamento: 100.0%\n",
      "Iteração de otimização:   9501, Acurácia do treinamento:  96.9%\n",
      "Iteração de otimização:   9551, Acurácia do treinamento:  98.4%\n",
      "Iteração de otimização:   9601, Acurácia do treinamento: 100.0%\n",
      "Iteração de otimização:   9651, Acurácia do treinamento: 100.0%\n",
      "Iteração de otimização:   9701, Acurácia do treinamento:  98.4%\n",
      "Iteração de otimização:   9751, Acurácia do treinamento: 100.0%\n",
      "Iteração de otimização:   9801, Acurácia do treinamento: 100.0%\n",
      "Iteração de otimização:   9851, Acurácia do treinamento:  96.9%\n",
      "Iteração de otimização:   9901, Acurácia do treinamento:  96.9%\n",
      "Iteração de otimização:   9951, Acurácia do treinamento: 100.0%\n",
      "Tempo gasto: 0:18:32\n",
      "Accuracy no conjunto de dados: 98.0% (9804 / 10000)\n",
      "Exemplos dos erros:\n"
     ]
    },
    {
     "data": {
      "image/png": "[encoded data removed]",
      "text/plain": [
       "<Figure size 432x288 with 9 Axes>"
      ]
     },
     "metadata": {},
     "output_type": "display_data"
    },
    {
     "name": "stdout",
     "output_type": "stream",
     "text": [
      "Matriz de confusão\n",
      "[[ 975    0    0    0    0    1    1    1    1    1]\n",
      " [   0 1127    1    3    0    1    0    0    3    0]\n",
      " [   6    1 1012    2    1    0    0    4    5    1]\n",
      " [   1    1    1  996    0    4    0    2    3    2]\n",
      " [   1    8    0    0  934    0    3    2    4   30]\n",
      " [   1    2    0    7    0  876    2    1    2    1]\n",
      " [  11    7    0    0    2    6  930    0    2    0]\n",
      " [   0    4    5    0    0    0    0 1011    3    5]\n",
      " [   7    0    0    5    0    3    0    2  956    1]\n",
      " [   4    3    0    0    3    7    0    1    4  987]]\n"
     ]
    },
    {
     "data": {
      "image/png": "[encoded data removed]",
      "text/plain": [
       "<Figure size 288x288 with 2 Axes>"
      ]
     },
     "metadata": {},
     "output_type": "display_data"
    }
   ],
   "source": [
    "optimize(9500)\n",
    "print_test_accuracy(True, True)"
   ]
  },
  {
   "cell_type": "code",
   "execution_count": 39,
   "metadata": {},
   "outputs": [
    {
     "data": {
      "image/png": "[encoded data removed]",
      "text/plain": [
       "<Figure size 432x288 with 16 Axes>"
      ]
     },
     "metadata": {},
     "output_type": "display_data"
    },
    {
     "data": {
      "image/png": "[encoded data removed]",
      "text/plain": [
       "<Figure size 432x288 with 36 Axes>"
      ]
     },
     "metadata": {},
     "output_type": "display_data"
    },
    {
     "data": {
      "image/png": "[encoded data removed]",
      "text/plain": [
       "<Figure size 432x288 with 16 Axes>"
      ]
     },
     "metadata": {},
     "output_type": "display_data"
    },
    {
     "data": {
      "image/png": "[encoded data removed]",
      "text/plain": [
       "<Figure size 432x288 with 36 Axes>"
      ]
     },
     "metadata": {},
     "output_type": "display_data"
    }
   ],
   "source": [
    "plot_conv_layer(layer_conv1, image1)\n",
    "plot_conv_layer(layer_conv2, image1)\n",
    "plot_conv_weights(weights_conv1)\n",
    "plot_conv_weights(weights_conv2)"
   ]
  },
  {
   "cell_type": "markdown",
   "metadata": {},
   "source": [
    "As duas últimas grades representam os pesos relacionados aos neurônios de cada camada, na camada de cima seria a imagemem cada neurônio.\n",
    "\n",
    "O algoritmo após 10000 iterações de treinamento alcançou 98% de acurácia, um bom resultado. Entretanto é possível melhorar ainda mais a acurácia se continuar executando otimizações, entretanto vou finalizar por aqui.\n",
    "\n",
    "Alguns fatos a se levar em consideração é que se diminuir o tamanho dos filtros das camadas convolucionais, por exemplo de 5 para 2, sem aumentar de maneira adequada o número de filtros, o algoritmo não se tornará eficaz na detecção dos dígitos. A inferência que eu faço é que isso seja causado pela perda de informação dos neurônios.\n",
    "\n",
    "Por outro lado também não é interessante aumentar o tamanho dos filtros, aparentemente causa algum tipo de sobreposição das informações.\n",
    "\n",
    "Com relação ao número de filtros, ocorre que se diminuir o número de filtros, a variação dos resultados tende a aumentar. Por exemplo, a acurácia chegar a 98% e depois cair para 80%, 76%. O resultado não se mostra consistente. Já aumentar o número de filtros faz com que o algoritmo se torne mais lento, entretanto há um crescimento mais gradual, porém mais consistente, da acurácia do algoritmo.\n",
    "\n",
    "Atualmente o ReLU não é mais tão utilizado por ter pouca influência sobre os resultados, ao fazer os testes pude constatar essa afirmação, não houve mudança significativa do processo de aprendizagem do algoritmo. Então não é tão relevante utilizar o ReLU, mas como não notei também nenhuma diferença relevante no tempo de execução do algoritmo, acredito que usar ou não esse procedimento não tem impacto no processo.\n",
    "\n",
    "Essas afirmações aqui feitas no final não são acompanhadas por uma nova execução do algoritmo pois para tanto deveria reiniciar o kernel do notebook e executar todo o algoritmo novamente. Apenas por este motivo não consta aqui a demonstração destes resultados."
   ]
  },
  {
   "cell_type": "markdown",
   "metadata": {},
   "source": [
    "### Referências\n",
    "https://brohrer.github.io/how_convolutional_neural_networks_work.html\n",
    "\n",
    "http://neuralnetworksanddeeplearning.com/index.html\n",
    "\n",
    "https://machinelearningmastery.com/adam-optimization-algorithm-for-deep-learning/\n",
    "\n",
    "https://www.youtube.com/playlist?list=PL9Hr9sNUjfsmEu1ZniY0XpHSzl5uihcXZ\n",
    "\n",
    "http://www.dataschool.io/simple-guide-to-confusion-matrix-terminology/\n",
    "\n",
    "http://deeplearning.net/tutorial/contents.html\n",
    "\n",
    "https://arxiv.org/pdf/1412.6980.pdf"
   ]
  }
 ],
 "metadata": {
  "kernelspec": {
   "display_name": "Python 3",
   "language": "python",
   "name": "python3"
  },
  "language_info": {
   "codemirror_mode": {
    "name": "ipython",
    "version": 3
   },
   "file_extension": ".py",
   "mimetype": "text/x-python",
   "name": "python",
   "nbconvert_exporter": "python",
   "pygments_lexer": "ipython3",
   "version": "3.6.5"
  }
 },
 "nbformat": 4,
 "nbformat_minor": 2
}
